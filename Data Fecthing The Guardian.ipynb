{
 "cells": [
  {
   "cell_type": "markdown",
   "metadata": {},
   "source": [
    "# API Data Fetching - The Guardian"
   ]
  },
  {
   "cell_type": "markdown",
   "metadata": {},
   "source": [
    "In this code we will use the open API from The Guardian to get several articles from the website."
   ]
  },
  {
   "cell_type": "code",
   "execution_count": 12,
   "metadata": {},
   "outputs": [
    {
     "name": "stdout",
     "output_type": "stream",
     "text": [
      "200 articles pulled from section 'technology'\n",
      "200 articles pulled from section 'sport'\n",
      "200 articles pulled from section 'business'\n",
      "200 articles pulled from section 'culture'\n",
      "200 articles pulled from section 'science'\n",
      "200 articles pulled from section 'environment'\n",
      "200 articles pulled from section 'politics'\n",
      "200 articles pulled from section 'world'\n"
     ]
    }
   ],
   "source": [
    "import requests\n",
    "import csv\n",
    "\n",
    "# Ypur API key from https://open-platform.theguardian.com/access/\n",
    "api_key = 'YOUR_API_KEY'\t \n",
    "\n",
    "# Sections to scrape\n",
    "sections = ['technology', 'sport', 'business', 'culture', 'science', 'environment', 'politics', 'world']\n",
    "\n",
    "# CSV file to write the data\n",
    "csv_file = './data/guardian_articles_full_content.csv'\n",
    "\n",
    "# Open the CSV file and write the header\n",
    "with open(csv_file, 'w', newline='', encoding='utf-8') as csvfile:\n",
    "    fieldnames = ['id', 'sectionName', 'webTitle', 'webPublicationDate', 'webUrl', 'apiUrl', 'bodyText']\n",
    "    writer = csv.DictWriter(csvfile, fieldnames=fieldnames)\n",
    "    writer.writeheader()\n",
    "\n",
    "    # Iterate over the sections\n",
    "    for section in sections:\n",
    "        # Configure the parameters for the request\n",
    "        params = {\n",
    "            'api-key': api_key,\n",
    "            'section': section,\n",
    "            'page-size': 200,\n",
    "            'show-fields': 'headline,byline,wordcount,short-url,bodyText'\n",
    "        }\n",
    "\n",
    "        # GET request to the API\n",
    "        response = requests.get('https://content.guardianapis.com/search', params=params)\n",
    "        data = response.json()\n",
    "\n",
    "        # Extract the articles from the response\n",
    "        articles = data['response']['results']\n",
    "\n",
    "        # Write the articles to the CSV file\n",
    "        for article in articles:\n",
    "            writer.writerow({\n",
    "                'id': article['id'],\n",
    "                'sectionName': article['sectionName'],\n",
    "                'webTitle': article['webTitle'],\n",
    "                'webPublicationDate': article['webPublicationDate'],\n",
    "                'webUrl': article['webUrl'],\n",
    "                'apiUrl': article['apiUrl'],\n",
    "                'bodyText': article['fields'].get('bodyText', '')\n",
    "            })\n",
    "\n",
    "        print(f\"{len(articles)} articles pulled from section '{section}'\")\n"
   ]
  }
 ],
 "metadata": {
  "kernelspec": {
   "display_name": "Python 3",
   "language": "python",
   "name": "python3"
  },
  "language_info": {
   "codemirror_mode": {
    "name": "ipython",
    "version": 3
   },
   "file_extension": ".py",
   "mimetype": "text/x-python",
   "name": "python",
   "nbconvert_exporter": "python",
   "pygments_lexer": "ipython3",
   "version": "3.11.9"
  }
 },
 "nbformat": 4,
 "nbformat_minor": 2
}
